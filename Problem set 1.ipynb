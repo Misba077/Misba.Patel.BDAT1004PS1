{
 "cells": [
  {
   "cell_type": "markdown",
   "id": "1a5e7aa8",
   "metadata": {},
   "source": [
    "# PROBLEM SET 1\n"
   ]
  },
  {
   "cell_type": "markdown",
   "id": "deccdd39",
   "metadata": {},
   "source": [
    "# Problem 1\n",
    "\n",
    "What data type is each of the following (evaluate where necessary)?\n",
    "\n",
    "a) 5\n",
    "\n",
    "b) 5.0 \n",
    "\n",
    "c) 5 > 1\n",
    "\n",
    "d) '5'\n",
    "\n",
    "e) 5 * 2\n",
    "\n",
    "f) '5' * 2\n",
    "\n",
    "g) '5' + '2'\n",
    "\n",
    "h) 5 / 2\n",
    "\n",
    "i) 5 % 2\n",
    "\n",
    "j) {5, 2, 1}\n",
    "\n",
    "k) 5 == 3\n",
    "\n",
    "l) Pi (the number)    "
   ]
  },
  {
   "cell_type": "markdown",
   "id": "7f910394",
   "metadata": {},
   "source": [
    "# Answer 1\n",
    "\n",
    "a) 5 [Integer]\n",
    "\n",
    "b) 5.0 [Float]\n",
    "\n",
    "c) 5 > 1 [Boolean]\n",
    "\n",
    "d) '5' [String]\n",
    "\n",
    "e) 5 * 2 = 10 [Integer]\n",
    "\n",
    "f) '5' * 2 [String]\n",
    "\n",
    "g) '5' + '2' [String]\n",
    "\n",
    "h) 5 / 2 = 2.5 [Float]\n",
    "\n",
    "i) 5 % 2 = 1 [Integer]\n",
    "\n",
    "j) {5, 2, 1} [Set]\n",
    "\n",
    "k) 5 == 3 [Boolean]\n",
    "\n",
    "l) Pi (the number) [Float]\n"
   ]
  },
  {
   "cell_type": "markdown",
   "id": "5cd25330",
   "metadata": {},
   "source": [
    "# Problem 2\n",
    "\n",
    "Write (and evaluate) python expressions that answer these questions:\n",
    "    \n",
    "a. How many letters are there in 'Supercalifragilisticexpialidocious'?\n",
    "\n",
    "b. Does 'Supercalifragilisticexpialidocious' contain 'ice' as a substring?\n",
    "\n",
    "c. Which of the following words is the longest: Supercalifragilisticexpialidocious, Honorificabilitudinitatibus, or Bababadalgharaghtakamminarronnkonn?\n",
    "\n",
    "d. Which composer comes first in the dictionary: 'Berlioz', 'Borodin', 'Brian', 'Bartok', 'Bellini', 'Buxtehude', 'Bernstein'. Which one comes last?"
   ]
  },
  {
   "cell_type": "code",
   "execution_count": 101,
   "id": "578f7357",
   "metadata": {},
   "outputs": [
    {
     "name": "stdout",
     "output_type": "stream",
     "text": [
      "Count =  34\n"
     ]
    }
   ],
   "source": [
    "# Answer 2 - a)\n",
    "\n",
    "word = 'Supercalifragilisticexpialidocious'\n",
    "letters = 0\n",
    "\n",
    "for i in word:\n",
    "    \n",
    "    letters+=1\n",
    "    \n",
    "print (\"Count = \", letters)\n"
   ]
  },
  {
   "cell_type": "code",
   "execution_count": 18,
   "id": "6b77d64e",
   "metadata": {},
   "outputs": [
    {
     "name": "stdout",
     "output_type": "stream",
     "text": [
      "Yes, it contains 'ice' as a substring\n"
     ]
    }
   ],
   "source": [
    "# Answer 2 - b)\n",
    "\n",
    "string = 'Supercalifragilisticexpialidocious'\n",
    "\n",
    "if 'ice' in string:\n",
    "    print (\"Yes, it contains 'ice' as a substring\")\n",
    "else:\n",
    "    print (\"No, it does not contain 'ice' as a substring\")"
   ]
  },
  {
   "cell_type": "code",
   "execution_count": 16,
   "id": "ad89fa2e",
   "metadata": {},
   "outputs": [
    {
     "name": "stdout",
     "output_type": "stream",
     "text": [
      "The longest word is: Supercalifragilisticexpialidocious\n"
     ]
    }
   ],
   "source": [
    "# Answer 2 - c)\n",
    "\n",
    "words = [\"Supercalifragilisticexpialidocious\", \"Honorificabilitudinitatibus\", \"Bababadalgharaghtakamminarronnkon\"]\n",
    "\n",
    "longest_word = max(words, key=len)\n",
    "\n",
    "print(\"The longest word is:\", longest_word)"
   ]
  },
  {
   "cell_type": "code",
   "execution_count": 26,
   "id": "480cd3ba",
   "metadata": {},
   "outputs": [
    {
     "name": "stdout",
     "output_type": "stream",
     "text": [
      "First word is:  Bartok\n",
      "Last word is:  Buxtehude\n"
     ]
    }
   ],
   "source": [
    "# Answer 2 - d)\n",
    "\n",
    "dic = ('Berlioz', 'Borodin', 'Brian', 'Bartok', 'Bellini', 'Buxtehude', 'Bernstein')\n",
    "shorted = sorted(dic)\n",
    "short = sorted\n",
    "first_word = list(shorted) [0]\n",
    "last_word = list(shorted) [-1]\n",
    "print (\"First word is: \",(first_word))\n",
    "print (\"Last word is: \",(last_word))\n"
   ]
  },
  {
   "cell_type": "markdown",
   "id": "ea8dc575",
   "metadata": {},
   "source": [
    "# Problem 3\n",
    "\n",
    "Implement function triangleArea(a,b,c) that takes as input the lengths of the 3 sides of a triangle and returns the area of the triangle. By Heron's formula, the area of a triangle with side lengths a, b, and c is \n",
    "(s - a)\n",
    "(s - b)\n",
    "(s - c) , \n",
    "\n",
    "wheres = (a + b + c)/2\n"
   ]
  },
  {
   "cell_type": "code",
   "execution_count": 102,
   "id": "afb4ceca",
   "metadata": {},
   "outputs": [
    {
     "name": "stdout",
     "output_type": "stream",
     "text": [
      "Triangle Sides: 2 2 2\n",
      "Area of triangle =  1.7320508075688772\n"
     ]
    }
   ],
   "source": [
    "# Answer - 3\n",
    "\n",
    "import math\n",
    "\n",
    "a = 2;\n",
    "b = 2;\n",
    "c = 2;\n",
    "s = (a + b + c)/2;\n",
    "\n",
    "area = math.sqrt(s*((s-a)*(s-b)*(s-c)));\n",
    "print (\"Triangle Sides:\",a,b,c)\n",
    "print (\"Area of triangle = \" , area)"
   ]
  },
  {
   "cell_type": "markdown",
   "id": "3d178c73",
   "metadata": {},
   "source": [
    "# Problem 4\n",
    "\n",
    "Write a program in python to separate odd and even integers in separate arrays.\n"
   ]
  },
  {
   "cell_type": "code",
   "execution_count": 104,
   "id": "959faffe",
   "metadata": {},
   "outputs": [
    {
     "name": "stdout",
     "output_type": "stream",
     "text": [
      "Enter the size of list: 5\n",
      "Enter the elements of list: \n",
      "25\n",
      "47\n",
      "42\n",
      "56\n",
      "32\n",
      "The even elements are:  [42, 56, 32]\n",
      "The odd elements are:  [25, 47]\n"
     ]
    }
   ],
   "source": [
    "# Answer 4:\n",
    "\n",
    "def septoddeven(a):\n",
    "    oddnum = []\n",
    "    evennum = []\n",
    "    for i in a:\n",
    "        if(i % 2 == 0):\n",
    "            evennum.append(i)\n",
    "        else:\n",
    "            oddnum.append(i)\n",
    "    print(\"The even elements are: \", evennum)\n",
    "    print(\"The odd elements are: \", oddnum)\n",
    "    \n",
    "a = []\n",
    "b = int(input(\"Enter the size of list: \"))\n",
    "print(\"Enter the elements of list: \")\n",
    "for  i in range(int(b)):\n",
    "    c = int(input(\"\"))\n",
    "    a.append(c)\n",
    "septoddeven(a)    \n",
    "        "
   ]
  },
  {
   "cell_type": "markdown",
   "id": "b8a263de",
   "metadata": {},
   "source": [
    "# Problem 5 \n",
    "\n",
    "a. Write a function inside(x,y,x1,y1,x2,y2) that returns True or False\n",
    "depending on whether the point (x,y) lies in the rectangle with lower left\n",
    "corner (x1,y1) and upper right corner (x2,y2).\n",
    "\n",
    "b. Use function inside() from part a. to write an expression that tests whether the point (1,1) lies in both of the following rectangles: one with lower left corner (0.3, 0.5) and upper right corner (1.1, 0.7) and the other with lower left corner (0.5, 0.2) and upper right corner (1.1, 2).\n"
   ]
  },
  {
   "cell_type": "code",
   "execution_count": 31,
   "id": "46519692",
   "metadata": {},
   "outputs": [
    {
     "data": {
      "text/plain": [
       "True"
      ]
     },
     "execution_count": 31,
     "metadata": {},
     "output_type": "execute_result"
    }
   ],
   "source": [
    "# Answer 5 - a)\n",
    "\n",
    "def inside(x, y, x1, y1, x2, y2):\n",
    "    return x1 <= x <= x2 and y1 <= y <= y2\n",
    "\n",
    "inside(1, 1, 0, 0, 2, 3)"
   ]
  },
  {
   "cell_type": "code",
   "execution_count": 34,
   "id": "560a4964",
   "metadata": {},
   "outputs": [
    {
     "name": "stdout",
     "output_type": "stream",
     "text": [
      "False\n"
     ]
    }
   ],
   "source": [
    "# Answer 5 - b)\n",
    "\n",
    "p = (1, 1)\n",
    "R1 = inside(p[0], p[1], 0.3, 0.5, 1.1, 0.7)\n",
    "R2 = inside(p[0], p[1], 0.5, 0.2, 1.1, 2)\n",
    "test = R1 and R2\n",
    "\n",
    "print(test) "
   ]
  },
  {
   "cell_type": "markdown",
   "id": "0e698275",
   "metadata": {},
   "source": [
    "# Problem 6\n",
    "\n",
    "You can turn a word into pig-Latin using the following two rules (simplified):\n",
    "\n",
    "• If the word starts with a consonant, move that letter to the end and append 'ay'. \n",
    "For example, 'happy' becomes 'appyhay' and 'pencil' becomes 'encilpay'.\n",
    "\n",
    "• If the word starts with a vowel, simply append 'way' to the end of the word.\n",
    "For example, 'enter' becomes 'enterway' and 'other' becomes 'otherway' . For our purposes, there are 5 vowels: a, e, i, o, u (so we count y as a consonant).\n",
    "\n",
    "Write a function pig() that takes a word (i.e., a string) as input and returns its pig-Latin form. "
   ]
  },
  {
   "cell_type": "code",
   "execution_count": 61,
   "id": "5d089e71",
   "metadata": {},
   "outputs": [
    {
     "name": "stdout",
     "output_type": "stream",
     "text": [
      "Write a message to convert: happy\n",
      "The pig latin form of message is: appyhay\n"
     ]
    }
   ],
   "source": [
    "# Answer 6\n",
    "\n",
    "def piglat(word):\n",
    "    vowels = {'a', 'e', 'i', 'o', 'u'}\n",
    "    if word[0].lower() in vowels:\n",
    "        return word.lower() + 'way'\n",
    "    else:\n",
    "        return word[1:].lower() + word[0].lower() + 'ay'\n",
    "\n",
    "UI = input(\"Write a message to convert: \")\n",
    "PL = piglat(UI)\n",
    "print(\"The pig latin form of message is:\", PL)"
   ]
  },
  {
   "cell_type": "markdown",
   "id": "765a34ad",
   "metadata": {},
   "source": [
    "# Problem 7\n",
    "\n",
    "File bloodtype1.txt records blood-types of patients (A, B, AB, O or OO) at a clinic.\n",
    "\n",
    "Write a function bldcount() that reads the file with name name and reports (i.e., prints) how many patients are there in each bloodtype."
   ]
  },
  {
   "cell_type": "code",
   "execution_count": 134,
   "id": "d05b72e2",
   "metadata": {},
   "outputs": [
    {
     "name": "stdout",
     "output_type": "stream",
     "text": [
      "There are 15 patients of blood type A.\n",
      "There is one patient of blood type B.\n",
      "There are 13 patients of blood type AB.\n",
      "There are 15 patients of blood type O.\n",
      "There are no patients of blood type OO.\n"
     ]
    }
   ],
   "source": [
    "# Answer 7\n",
    "\n",
    "#file_path = 'bloodtype1.txt'\n",
    "\n",
    "def bldcount(filename): \n",
    "    infile = open('bloodtype1.txt', 'r') \n",
    "    content = infile.read()\n",
    "    infile.close() \n",
    "    content = content.split()\n",
    "    bloodtype1 = ['A','B','AB','O','OO'] \n",
    "    for i in bloodtype1: \n",
    "        if content.count(i) == 0: \n",
    "            print(\"There are no patients of blood type\", i+'.')\n",
    "        elif content.count(i) == 1: \n",
    "            print(\"There is one patient of blood type\", i+'.')    \n",
    "        else: \n",
    "            print(\"There are\", content.count(i), \"patients of blood type\", i+'.') \n",
    "\n",
    "bldcount('bloodtype.txt')"
   ]
  },
  {
   "cell_type": "markdown",
   "id": "d4e2f8c7",
   "metadata": {},
   "source": [
    "# Problem 8\n",
    "\n",
    "Write a function curconv() that takes as input:\n",
    "\n",
    "1. a currency represented using a string (e.g., 'JPY' for the Japanese Yen or 'EUR' for the Euro)\n",
    "\n",
    "2. an amount and then converts and returns the amount in US dollars"
   ]
  },
  {
   "cell_type": "code",
   "execution_count": 106,
   "id": "aaa91e48",
   "metadata": {},
   "outputs": [
    {
     "name": "stdout",
     "output_type": "stream",
     "text": [
      "Enter the currency: EUR\n",
      "Enter the amount to be exchanged: 100\n",
      "Similar amount in US dollars: 122.96544\n"
     ]
    }
   ],
   "source": [
    "# Answer 8\n",
    "\n",
    "def curconv():\n",
    "   \n",
    "    conv_rates = {\n",
    "        'AUD': 1.0345157,\n",
    "        'CHF': 1.0237414,\n",
    "        'CNY': 0.1550176,\n",
    "        'DKK': 0.1651442,\n",
    "        'EUR': 1.2296544,\n",
    "        'GBP': 1.5550989,\n",
    "        'HKD': 0.1270207,\n",
    "        'INR': 0.0177643,\n",
    "        'JPY': 0.01241401,\n",
    "        'MXN': 0.0751848,\n",
    "        'MYR': 0.3145411,\n",
    "        'NOK': 0.1677063,\n",
    "        'NZD': 0.8003591,\n",
    "        'PHP': 0.0233234,\n",
    "        'SEK': 0.148269,\n",
    "        'SGD': 0.788871,\n",
    "        'THB': 0.0313789\n",
    "    }\n",
    "    \n",
    "    currency = input(\"Enter the currency: \")\n",
    "    amt = float(input(\"Enter the amount to be exchanged: \"))\n",
    "    \n",
    "    if currency in conv_rates:\n",
    "        amount_usd = amt * conv_rates[currency]\n",
    "        return amount_usd\n",
    "    else:\n",
    "        return None\n",
    "\n",
    "cnvt_amt = curconv()\n",
    "if cnvt_amt is not None:\n",
    "    print(\"Similar amount in US dollars:\", cnvt_amt)\n",
    "else:\n",
    "    print(\"Invalid currency entered.\")"
   ]
  },
  {
   "cell_type": "markdown",
   "id": "3c5ef072",
   "metadata": {},
   "source": [
    "# Problem 9\n",
    "\n",
    "Each of the following will cause an exception (an error). Identify what type of exception each will cause.\n",
    "\n",
    "a) Trying to add incompatible variables, as in adding 6 + ‘a’\n",
    "\n",
    "b) Referring to the 12th item of a list that has only 10 items\n",
    "\n",
    "c) Using a value that is out of range for a function’s input, such as calling math.sqrt(-1.0)\n",
    "\n",
    "d) Using an undeclared variable, such as print(x) when x has not been defined\n",
    "\n",
    "e) Trying to open a file that does not exist, such as mistyping the file name or looking in the wrong directory."
   ]
  },
  {
   "cell_type": "markdown",
   "id": "08d4aa08",
   "metadata": {},
   "source": [
    "# Answer 9 \n",
    "\n",
    "a) 6 = 'a' shows syntax error [Unsupported type error]\n",
    "\n",
    "b) [Out of index error]\n",
    "\n",
    "c) math.sqrt(-1.0) shows domain error [ValueError]\n",
    "\n",
    "d) print(x) shows variable not defined error [NameError]\n",
    "\n",
    "e) [No such directory found] error message is displayed"
   ]
  },
  {
   "cell_type": "markdown",
   "id": "0dbaf67e",
   "metadata": {},
   "source": [
    "# Problem 10\n",
    "\n",
    "Write a function called frequencies() that takes a string as its only parameter, and returns a list of integers, showing the number of times each character appears in the text. \n",
    "\n",
    "Your function may ignore any characters that are not in letters"
   ]
  },
  {
   "cell_type": "code",
   "execution_count": 87,
   "id": "4866411a",
   "metadata": {},
   "outputs": [
    {
     "name": "stdout",
     "output_type": "stream",
     "text": [
      "Enter a string: The quick red fox got bored and went home.\n",
      "[1, 1, 1, 3, 5, 1, 1, 2, 1, 0, 1, 0, 1, 2, 4, 0, 1, 2, 0, 2, 1, 0, 1, 1, 0, 0]\n"
     ]
    }
   ],
   "source": [
    "def frequencies(data):\n",
    "    fre = {}\n",
    "\n",
    "    for char in data:\n",
    "        if char.isalpha():\n",
    "            fre[char] = fre.get(char, 0) + 1\n",
    "    \n",
    "    result = [fre.get(chr(i), 0) for i in range(97, 123)]   \n",
    "    return result\n",
    "\n",
    "data = input(\"Enter a string: \")\n",
    "print(frequencies(data))"
   ]
  }
 ],
 "metadata": {
  "kernelspec": {
   "display_name": "Python 3 (ipykernel)",
   "language": "python",
   "name": "python3"
  },
  "language_info": {
   "codemirror_mode": {
    "name": "ipython",
    "version": 3
   },
   "file_extension": ".py",
   "mimetype": "text/x-python",
   "name": "python",
   "nbconvert_exporter": "python",
   "pygments_lexer": "ipython3",
   "version": "3.11.7"
  }
 },
 "nbformat": 4,
 "nbformat_minor": 5
}
